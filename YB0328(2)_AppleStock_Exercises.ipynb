{
  "nbformat": 4,
  "nbformat_minor": 0,
  "metadata": {
    "anaconda-cloud": {},
    "kernelspec": {
      "display_name": "Python [default]",
      "language": "python",
      "name": "python2"
    },
    "language_info": {
      "codemirror_mode": {
        "name": "ipython",
        "version": 2
      },
      "file_extension": ".py",
      "mimetype": "text/x-python",
      "name": "python",
      "nbconvert_exporter": "python",
      "pygments_lexer": "ipython2",
      "version": "2.7.12"
    },
    "colab": {
      "provenance": [],
      "include_colab_link": true
    }
  },
  "cells": [
    {
      "cell_type": "markdown",
      "metadata": {
        "id": "view-in-github",
        "colab_type": "text"
      },
      "source": [
        "<a href=\"https://colab.research.google.com/github/Seungwon-hub/ESAA/blob/main/YB0328(2)_AppleStock_Exercises.ipynb\" target=\"_parent\"><img src=\"https://colab.research.google.com/assets/colab-badge.svg\" alt=\"Open In Colab\"/></a>"
      ]
    },
    {
      "cell_type": "markdown",
      "metadata": {
        "id": "on6xgUECVXIz"
      },
      "source": [
        "# Apple Stock"
      ]
    },
    {
      "cell_type": "markdown",
      "metadata": {
        "id": "yRb05F3RVXJI"
      },
      "source": [
        "### Introduction:\n",
        "\n",
        "We are going to use Apple's stock price.\n",
        "\n",
        "\n",
        "### Step 1. Import the necessary libraries"
      ]
    },
    {
      "cell_type": "code",
      "metadata": {
        "id": "4g8N0RkRVXJN"
      },
      "source": [
        "import pandas as pd\n",
        "import numpy as np"
      ],
      "execution_count": 9,
      "outputs": []
    },
    {
      "cell_type": "markdown",
      "metadata": {
        "id": "PadQE1mnVXJS"
      },
      "source": [
        "### Step 2. Import the dataset from this [address](https://raw.githubusercontent.com/guipsamora/pandas_exercises/master/09_Time_Series/Apple_Stock/appl_1980_2014.csv)"
      ]
    },
    {
      "cell_type": "code",
      "metadata": {
        "collapsed": true,
        "id": "jFE0126tVXJU"
      },
      "source": [
        "data = pd.read_csv('https://raw.githubusercontent.com/guipsamora/pandas_exercises/master/09_Time_Series/Apple_Stock/appl_1980_2014.csv',sep=',')"
      ],
      "execution_count": 34,
      "outputs": []
    },
    {
      "cell_type": "markdown",
      "metadata": {
        "id": "0szUfJRXVXJY"
      },
      "source": [
        "### Step 3. Assign it to a variable apple"
      ]
    },
    {
      "cell_type": "code",
      "metadata": {
        "id": "-OGkJEZNVXJa"
      },
      "source": [
        "apple = pd.read_csv('https://raw.githubusercontent.com/guipsamora/pandas_exercises/master/09_Time_Series/Apple_Stock/appl_1980_2014.csv',sep=',')"
      ],
      "execution_count": 35,
      "outputs": []
    },
    {
      "cell_type": "markdown",
      "metadata": {
        "id": "TBxUymvFVXJc"
      },
      "source": [
        "### Step 4.  Check out the type of the columns"
      ]
    },
    {
      "cell_type": "code",
      "metadata": {
        "id": "hh_Qct_DVXJg",
        "colab": {
          "base_uri": "https://localhost:8080/"
        },
        "outputId": "ad58be73-3597-4399-a07d-84a5067a4399"
      },
      "source": [
        "print(apple.dtypes)"
      ],
      "execution_count": 36,
      "outputs": [
        {
          "output_type": "stream",
          "name": "stdout",
          "text": [
            "Date          object\n",
            "Open         float64\n",
            "High         float64\n",
            "Low          float64\n",
            "Close        float64\n",
            "Volume         int64\n",
            "Adj Close    float64\n",
            "dtype: object\n"
          ]
        }
      ]
    },
    {
      "cell_type": "markdown",
      "metadata": {
        "id": "gSo835mZVXJj"
      },
      "source": [
        "### Step 5. Transform the Date column as a datetime type"
      ]
    },
    {
      "cell_type": "code",
      "source": [
        "apple['Date'] = pd.to_datetime(apple['Date'])"
      ],
      "metadata": {
        "id": "b4pcyiepHrxF"
      },
      "execution_count": 37,
      "outputs": []
    },
    {
      "cell_type": "code",
      "metadata": {
        "id": "TZHt_GTCVXJm",
        "colab": {
          "base_uri": "https://localhost:8080/"
        },
        "outputId": "51ef783d-cbd6-45e4-9411-1c26d7026b31"
      },
      "source": [
        "print(apple.dtypes)"
      ],
      "execution_count": 38,
      "outputs": [
        {
          "output_type": "stream",
          "name": "stdout",
          "text": [
            "Date         datetime64[ns]\n",
            "Open                float64\n",
            "High                float64\n",
            "Low                 float64\n",
            "Close               float64\n",
            "Volume                int64\n",
            "Adj Close           float64\n",
            "dtype: object\n"
          ]
        }
      ]
    },
    {
      "cell_type": "markdown",
      "metadata": {
        "id": "KnpuOPx1VXJn"
      },
      "source": [
        "### Step 6.  Set the date as the index"
      ]
    },
    {
      "cell_type": "code",
      "metadata": {
        "id": "0w3vVnNTVXJp"
      },
      "source": [
        "apple.set_index('Date', inplace=True)"
      ],
      "execution_count": 39,
      "outputs": []
    },
    {
      "cell_type": "markdown",
      "metadata": {
        "id": "gTAynxAuVXJq"
      },
      "source": [
        "### Step 7.  Is there any duplicate dates?"
      ]
    },
    {
      "cell_type": "code",
      "metadata": {
        "id": "X7CMs_b0VXJs",
        "colab": {
          "base_uri": "https://localhost:8080/"
        },
        "outputId": "6261e96b-4db6-4c96-b272-57aae99d7059"
      },
      "source": [
        "duplicated_dates = apple.index.duplicated().any()\n",
        "\n",
        "print(\"중복된 날짜 있나요?\", duplicated_dates)"
      ],
      "execution_count": 40,
      "outputs": [
        {
          "output_type": "stream",
          "name": "stdout",
          "text": [
            "중복된 날짜 있나요? False\n"
          ]
        }
      ]
    },
    {
      "cell_type": "markdown",
      "metadata": {
        "id": "hwzw_ul_VXJt"
      },
      "source": [
        "### Step 8.  Ops...it seems the index is from the most recent date. Make the first entry the oldest date."
      ]
    },
    {
      "cell_type": "code",
      "metadata": {
        "id": "4-JjpkhjVXJv",
        "colab": {
          "base_uri": "https://localhost:8080/",
          "height": 455
        },
        "outputId": "3e913c50-f086-427d-864b-567e4a366a8e"
      },
      "source": [
        "apple.sort_index(inplace=True)\n",
        "apple"
      ],
      "execution_count": 43,
      "outputs": [
        {
          "output_type": "execute_result",
          "data": {
            "text/plain": [
              "             Open   High    Low  Close     Volume  Adj Close\n",
              "Date                                                        \n",
              "1980-12-12  28.75  28.87  28.75  28.75  117258400       0.45\n",
              "1980-12-15  27.38  27.38  27.25  27.25   43971200       0.42\n",
              "1980-12-16  25.37  25.37  25.25  25.25   26432000       0.39\n",
              "1980-12-17  25.87  26.00  25.87  25.87   21610400       0.40\n",
              "1980-12-18  26.63  26.75  26.63  26.63   18362400       0.41\n",
              "...           ...    ...    ...    ...        ...        ...\n",
              "2014-07-01  93.52  94.07  93.13  93.52   38170200      93.52\n",
              "2014-07-02  93.87  94.06  93.09  93.48   28420900      93.48\n",
              "2014-07-03  93.67  94.10  93.20  94.03   22891800      94.03\n",
              "2014-07-07  94.14  95.99  94.10  95.97   56305400      95.97\n",
              "2014-07-08  96.27  96.80  93.92  95.35   65130000      95.35\n",
              "\n",
              "[8465 rows x 6 columns]"
            ],
            "text/html": [
              "\n",
              "  <div id=\"df-c8e79f1f-8a71-4279-a6c0-54d91be6e67a\" class=\"colab-df-container\">\n",
              "    <div>\n",
              "<style scoped>\n",
              "    .dataframe tbody tr th:only-of-type {\n",
              "        vertical-align: middle;\n",
              "    }\n",
              "\n",
              "    .dataframe tbody tr th {\n",
              "        vertical-align: top;\n",
              "    }\n",
              "\n",
              "    .dataframe thead th {\n",
              "        text-align: right;\n",
              "    }\n",
              "</style>\n",
              "<table border=\"1\" class=\"dataframe\">\n",
              "  <thead>\n",
              "    <tr style=\"text-align: right;\">\n",
              "      <th></th>\n",
              "      <th>Open</th>\n",
              "      <th>High</th>\n",
              "      <th>Low</th>\n",
              "      <th>Close</th>\n",
              "      <th>Volume</th>\n",
              "      <th>Adj Close</th>\n",
              "    </tr>\n",
              "    <tr>\n",
              "      <th>Date</th>\n",
              "      <th></th>\n",
              "      <th></th>\n",
              "      <th></th>\n",
              "      <th></th>\n",
              "      <th></th>\n",
              "      <th></th>\n",
              "    </tr>\n",
              "  </thead>\n",
              "  <tbody>\n",
              "    <tr>\n",
              "      <th>1980-12-12</th>\n",
              "      <td>28.75</td>\n",
              "      <td>28.87</td>\n",
              "      <td>28.75</td>\n",
              "      <td>28.75</td>\n",
              "      <td>117258400</td>\n",
              "      <td>0.45</td>\n",
              "    </tr>\n",
              "    <tr>\n",
              "      <th>1980-12-15</th>\n",
              "      <td>27.38</td>\n",
              "      <td>27.38</td>\n",
              "      <td>27.25</td>\n",
              "      <td>27.25</td>\n",
              "      <td>43971200</td>\n",
              "      <td>0.42</td>\n",
              "    </tr>\n",
              "    <tr>\n",
              "      <th>1980-12-16</th>\n",
              "      <td>25.37</td>\n",
              "      <td>25.37</td>\n",
              "      <td>25.25</td>\n",
              "      <td>25.25</td>\n",
              "      <td>26432000</td>\n",
              "      <td>0.39</td>\n",
              "    </tr>\n",
              "    <tr>\n",
              "      <th>1980-12-17</th>\n",
              "      <td>25.87</td>\n",
              "      <td>26.00</td>\n",
              "      <td>25.87</td>\n",
              "      <td>25.87</td>\n",
              "      <td>21610400</td>\n",
              "      <td>0.40</td>\n",
              "    </tr>\n",
              "    <tr>\n",
              "      <th>1980-12-18</th>\n",
              "      <td>26.63</td>\n",
              "      <td>26.75</td>\n",
              "      <td>26.63</td>\n",
              "      <td>26.63</td>\n",
              "      <td>18362400</td>\n",
              "      <td>0.41</td>\n",
              "    </tr>\n",
              "    <tr>\n",
              "      <th>...</th>\n",
              "      <td>...</td>\n",
              "      <td>...</td>\n",
              "      <td>...</td>\n",
              "      <td>...</td>\n",
              "      <td>...</td>\n",
              "      <td>...</td>\n",
              "    </tr>\n",
              "    <tr>\n",
              "      <th>2014-07-01</th>\n",
              "      <td>93.52</td>\n",
              "      <td>94.07</td>\n",
              "      <td>93.13</td>\n",
              "      <td>93.52</td>\n",
              "      <td>38170200</td>\n",
              "      <td>93.52</td>\n",
              "    </tr>\n",
              "    <tr>\n",
              "      <th>2014-07-02</th>\n",
              "      <td>93.87</td>\n",
              "      <td>94.06</td>\n",
              "      <td>93.09</td>\n",
              "      <td>93.48</td>\n",
              "      <td>28420900</td>\n",
              "      <td>93.48</td>\n",
              "    </tr>\n",
              "    <tr>\n",
              "      <th>2014-07-03</th>\n",
              "      <td>93.67</td>\n",
              "      <td>94.10</td>\n",
              "      <td>93.20</td>\n",
              "      <td>94.03</td>\n",
              "      <td>22891800</td>\n",
              "      <td>94.03</td>\n",
              "    </tr>\n",
              "    <tr>\n",
              "      <th>2014-07-07</th>\n",
              "      <td>94.14</td>\n",
              "      <td>95.99</td>\n",
              "      <td>94.10</td>\n",
              "      <td>95.97</td>\n",
              "      <td>56305400</td>\n",
              "      <td>95.97</td>\n",
              "    </tr>\n",
              "    <tr>\n",
              "      <th>2014-07-08</th>\n",
              "      <td>96.27</td>\n",
              "      <td>96.80</td>\n",
              "      <td>93.92</td>\n",
              "      <td>95.35</td>\n",
              "      <td>65130000</td>\n",
              "      <td>95.35</td>\n",
              "    </tr>\n",
              "  </tbody>\n",
              "</table>\n",
              "<p>8465 rows × 6 columns</p>\n",
              "</div>\n",
              "    <div class=\"colab-df-buttons\">\n",
              "\n",
              "  <div class=\"colab-df-container\">\n",
              "    <button class=\"colab-df-convert\" onclick=\"convertToInteractive('df-c8e79f1f-8a71-4279-a6c0-54d91be6e67a')\"\n",
              "            title=\"Convert this dataframe to an interactive table.\"\n",
              "            style=\"display:none;\">\n",
              "\n",
              "  <svg xmlns=\"http://www.w3.org/2000/svg\" height=\"24px\" viewBox=\"0 -960 960 960\">\n",
              "    <path d=\"M120-120v-720h720v720H120Zm60-500h600v-160H180v160Zm220 220h160v-160H400v160Zm0 220h160v-160H400v160ZM180-400h160v-160H180v160Zm440 0h160v-160H620v160ZM180-180h160v-160H180v160Zm440 0h160v-160H620v160Z\"/>\n",
              "  </svg>\n",
              "    </button>\n",
              "\n",
              "  <style>\n",
              "    .colab-df-container {\n",
              "      display:flex;\n",
              "      gap: 12px;\n",
              "    }\n",
              "\n",
              "    .colab-df-convert {\n",
              "      background-color: #E8F0FE;\n",
              "      border: none;\n",
              "      border-radius: 50%;\n",
              "      cursor: pointer;\n",
              "      display: none;\n",
              "      fill: #1967D2;\n",
              "      height: 32px;\n",
              "      padding: 0 0 0 0;\n",
              "      width: 32px;\n",
              "    }\n",
              "\n",
              "    .colab-df-convert:hover {\n",
              "      background-color: #E2EBFA;\n",
              "      box-shadow: 0px 1px 2px rgba(60, 64, 67, 0.3), 0px 1px 3px 1px rgba(60, 64, 67, 0.15);\n",
              "      fill: #174EA6;\n",
              "    }\n",
              "\n",
              "    .colab-df-buttons div {\n",
              "      margin-bottom: 4px;\n",
              "    }\n",
              "\n",
              "    [theme=dark] .colab-df-convert {\n",
              "      background-color: #3B4455;\n",
              "      fill: #D2E3FC;\n",
              "    }\n",
              "\n",
              "    [theme=dark] .colab-df-convert:hover {\n",
              "      background-color: #434B5C;\n",
              "      box-shadow: 0px 1px 3px 1px rgba(0, 0, 0, 0.15);\n",
              "      filter: drop-shadow(0px 1px 2px rgba(0, 0, 0, 0.3));\n",
              "      fill: #FFFFFF;\n",
              "    }\n",
              "  </style>\n",
              "\n",
              "    <script>\n",
              "      const buttonEl =\n",
              "        document.querySelector('#df-c8e79f1f-8a71-4279-a6c0-54d91be6e67a button.colab-df-convert');\n",
              "      buttonEl.style.display =\n",
              "        google.colab.kernel.accessAllowed ? 'block' : 'none';\n",
              "\n",
              "      async function convertToInteractive(key) {\n",
              "        const element = document.querySelector('#df-c8e79f1f-8a71-4279-a6c0-54d91be6e67a');\n",
              "        const dataTable =\n",
              "          await google.colab.kernel.invokeFunction('convertToInteractive',\n",
              "                                                    [key], {});\n",
              "        if (!dataTable) return;\n",
              "\n",
              "        const docLinkHtml = 'Like what you see? Visit the ' +\n",
              "          '<a target=\"_blank\" href=https://colab.research.google.com/notebooks/data_table.ipynb>data table notebook</a>'\n",
              "          + ' to learn more about interactive tables.';\n",
              "        element.innerHTML = '';\n",
              "        dataTable['output_type'] = 'display_data';\n",
              "        await google.colab.output.renderOutput(dataTable, element);\n",
              "        const docLink = document.createElement('div');\n",
              "        docLink.innerHTML = docLinkHtml;\n",
              "        element.appendChild(docLink);\n",
              "      }\n",
              "    </script>\n",
              "  </div>\n",
              "\n",
              "\n",
              "<div id=\"df-e024984b-4846-41cd-a31c-61376c07b5c0\">\n",
              "  <button class=\"colab-df-quickchart\" onclick=\"quickchart('df-e024984b-4846-41cd-a31c-61376c07b5c0')\"\n",
              "            title=\"Suggest charts\"\n",
              "            style=\"display:none;\">\n",
              "\n",
              "<svg xmlns=\"http://www.w3.org/2000/svg\" height=\"24px\"viewBox=\"0 0 24 24\"\n",
              "     width=\"24px\">\n",
              "    <g>\n",
              "        <path d=\"M19 3H5c-1.1 0-2 .9-2 2v14c0 1.1.9 2 2 2h14c1.1 0 2-.9 2-2V5c0-1.1-.9-2-2-2zM9 17H7v-7h2v7zm4 0h-2V7h2v10zm4 0h-2v-4h2v4z\"/>\n",
              "    </g>\n",
              "</svg>\n",
              "  </button>\n",
              "\n",
              "<style>\n",
              "  .colab-df-quickchart {\n",
              "      --bg-color: #E8F0FE;\n",
              "      --fill-color: #1967D2;\n",
              "      --hover-bg-color: #E2EBFA;\n",
              "      --hover-fill-color: #174EA6;\n",
              "      --disabled-fill-color: #AAA;\n",
              "      --disabled-bg-color: #DDD;\n",
              "  }\n",
              "\n",
              "  [theme=dark] .colab-df-quickchart {\n",
              "      --bg-color: #3B4455;\n",
              "      --fill-color: #D2E3FC;\n",
              "      --hover-bg-color: #434B5C;\n",
              "      --hover-fill-color: #FFFFFF;\n",
              "      --disabled-bg-color: #3B4455;\n",
              "      --disabled-fill-color: #666;\n",
              "  }\n",
              "\n",
              "  .colab-df-quickchart {\n",
              "    background-color: var(--bg-color);\n",
              "    border: none;\n",
              "    border-radius: 50%;\n",
              "    cursor: pointer;\n",
              "    display: none;\n",
              "    fill: var(--fill-color);\n",
              "    height: 32px;\n",
              "    padding: 0;\n",
              "    width: 32px;\n",
              "  }\n",
              "\n",
              "  .colab-df-quickchart:hover {\n",
              "    background-color: var(--hover-bg-color);\n",
              "    box-shadow: 0 1px 2px rgba(60, 64, 67, 0.3), 0 1px 3px 1px rgba(60, 64, 67, 0.15);\n",
              "    fill: var(--button-hover-fill-color);\n",
              "  }\n",
              "\n",
              "  .colab-df-quickchart-complete:disabled,\n",
              "  .colab-df-quickchart-complete:disabled:hover {\n",
              "    background-color: var(--disabled-bg-color);\n",
              "    fill: var(--disabled-fill-color);\n",
              "    box-shadow: none;\n",
              "  }\n",
              "\n",
              "  .colab-df-spinner {\n",
              "    border: 2px solid var(--fill-color);\n",
              "    border-color: transparent;\n",
              "    border-bottom-color: var(--fill-color);\n",
              "    animation:\n",
              "      spin 1s steps(1) infinite;\n",
              "  }\n",
              "\n",
              "  @keyframes spin {\n",
              "    0% {\n",
              "      border-color: transparent;\n",
              "      border-bottom-color: var(--fill-color);\n",
              "      border-left-color: var(--fill-color);\n",
              "    }\n",
              "    20% {\n",
              "      border-color: transparent;\n",
              "      border-left-color: var(--fill-color);\n",
              "      border-top-color: var(--fill-color);\n",
              "    }\n",
              "    30% {\n",
              "      border-color: transparent;\n",
              "      border-left-color: var(--fill-color);\n",
              "      border-top-color: var(--fill-color);\n",
              "      border-right-color: var(--fill-color);\n",
              "    }\n",
              "    40% {\n",
              "      border-color: transparent;\n",
              "      border-right-color: var(--fill-color);\n",
              "      border-top-color: var(--fill-color);\n",
              "    }\n",
              "    60% {\n",
              "      border-color: transparent;\n",
              "      border-right-color: var(--fill-color);\n",
              "    }\n",
              "    80% {\n",
              "      border-color: transparent;\n",
              "      border-right-color: var(--fill-color);\n",
              "      border-bottom-color: var(--fill-color);\n",
              "    }\n",
              "    90% {\n",
              "      border-color: transparent;\n",
              "      border-bottom-color: var(--fill-color);\n",
              "    }\n",
              "  }\n",
              "</style>\n",
              "\n",
              "  <script>\n",
              "    async function quickchart(key) {\n",
              "      const quickchartButtonEl =\n",
              "        document.querySelector('#' + key + ' button');\n",
              "      quickchartButtonEl.disabled = true;  // To prevent multiple clicks.\n",
              "      quickchartButtonEl.classList.add('colab-df-spinner');\n",
              "      try {\n",
              "        const charts = await google.colab.kernel.invokeFunction(\n",
              "            'suggestCharts', [key], {});\n",
              "      } catch (error) {\n",
              "        console.error('Error during call to suggestCharts:', error);\n",
              "      }\n",
              "      quickchartButtonEl.classList.remove('colab-df-spinner');\n",
              "      quickchartButtonEl.classList.add('colab-df-quickchart-complete');\n",
              "    }\n",
              "    (() => {\n",
              "      let quickchartButtonEl =\n",
              "        document.querySelector('#df-e024984b-4846-41cd-a31c-61376c07b5c0 button');\n",
              "      quickchartButtonEl.style.display =\n",
              "        google.colab.kernel.accessAllowed ? 'block' : 'none';\n",
              "    })();\n",
              "  </script>\n",
              "</div>\n",
              "\n",
              "  <div id=\"id_249b1298-a6d3-434a-a62e-cf1c2fc50f87\">\n",
              "    <style>\n",
              "      .colab-df-generate {\n",
              "        background-color: #E8F0FE;\n",
              "        border: none;\n",
              "        border-radius: 50%;\n",
              "        cursor: pointer;\n",
              "        display: none;\n",
              "        fill: #1967D2;\n",
              "        height: 32px;\n",
              "        padding: 0 0 0 0;\n",
              "        width: 32px;\n",
              "      }\n",
              "\n",
              "      .colab-df-generate:hover {\n",
              "        background-color: #E2EBFA;\n",
              "        box-shadow: 0px 1px 2px rgba(60, 64, 67, 0.3), 0px 1px 3px 1px rgba(60, 64, 67, 0.15);\n",
              "        fill: #174EA6;\n",
              "      }\n",
              "\n",
              "      [theme=dark] .colab-df-generate {\n",
              "        background-color: #3B4455;\n",
              "        fill: #D2E3FC;\n",
              "      }\n",
              "\n",
              "      [theme=dark] .colab-df-generate:hover {\n",
              "        background-color: #434B5C;\n",
              "        box-shadow: 0px 1px 3px 1px rgba(0, 0, 0, 0.15);\n",
              "        filter: drop-shadow(0px 1px 2px rgba(0, 0, 0, 0.3));\n",
              "        fill: #FFFFFF;\n",
              "      }\n",
              "    </style>\n",
              "    <button class=\"colab-df-generate\" onclick=\"generateWithVariable('apple')\"\n",
              "            title=\"Generate code using this dataframe.\"\n",
              "            style=\"display:none;\">\n",
              "\n",
              "  <svg xmlns=\"http://www.w3.org/2000/svg\" height=\"24px\"viewBox=\"0 0 24 24\"\n",
              "       width=\"24px\">\n",
              "    <path d=\"M7,19H8.4L18.45,9,17,7.55,7,17.6ZM5,21V16.75L18.45,3.32a2,2,0,0,1,2.83,0l1.4,1.43a1.91,1.91,0,0,1,.58,1.4,1.91,1.91,0,0,1-.58,1.4L9.25,21ZM18.45,9,17,7.55Zm-12,3A5.31,5.31,0,0,0,4.9,8.1,5.31,5.31,0,0,0,1,6.5,5.31,5.31,0,0,0,4.9,4.9,5.31,5.31,0,0,0,6.5,1,5.31,5.31,0,0,0,8.1,4.9,5.31,5.31,0,0,0,12,6.5,5.46,5.46,0,0,0,6.5,12Z\"/>\n",
              "  </svg>\n",
              "    </button>\n",
              "    <script>\n",
              "      (() => {\n",
              "      const buttonEl =\n",
              "        document.querySelector('#id_249b1298-a6d3-434a-a62e-cf1c2fc50f87 button.colab-df-generate');\n",
              "      buttonEl.style.display =\n",
              "        google.colab.kernel.accessAllowed ? 'block' : 'none';\n",
              "\n",
              "      buttonEl.onclick = () => {\n",
              "        google.colab.notebook.generateWithVariable('apple');\n",
              "      }\n",
              "      })();\n",
              "    </script>\n",
              "  </div>\n",
              "\n",
              "    </div>\n",
              "  </div>\n"
            ],
            "application/vnd.google.colaboratory.intrinsic+json": {
              "type": "dataframe",
              "variable_name": "apple",
              "summary": "{\n  \"name\": \"apple\",\n  \"rows\": 8465,\n  \"fields\": [\n    {\n      \"column\": \"Date\",\n      \"properties\": {\n        \"dtype\": \"date\",\n        \"min\": \"1980-12-12 00:00:00\",\n        \"max\": \"2014-07-08 00:00:00\",\n        \"num_unique_values\": 8465,\n        \"samples\": [\n          \"2004-07-06 00:00:00\",\n          \"2001-11-28 00:00:00\",\n          \"2004-05-04 00:00:00\"\n        ],\n        \"semantic_type\": \"\",\n        \"description\": \"\"\n      }\n    },\n    {\n      \"column\": \"Open\",\n      \"properties\": {\n        \"dtype\": \"number\",\n        \"std\": 141.96535047536176,\n        \"min\": 11.12,\n        \"max\": 702.41,\n        \"num_unique_values\": 3744,\n        \"samples\": [\n          456.98,\n          23.77,\n          76.62\n        ],\n        \"semantic_type\": \"\",\n        \"description\": \"\"\n      }\n    },\n    {\n      \"column\": \"High\",\n      \"properties\": {\n        \"dtype\": \"number\",\n        \"std\": 143.15567390401856,\n        \"min\": 11.12,\n        \"max\": 705.07,\n        \"num_unique_values\": 3666,\n        \"samples\": [\n          100.35,\n          608.34,\n          539.25\n        ],\n        \"semantic_type\": \"\",\n        \"description\": \"\"\n      }\n    },\n    {\n      \"column\": \"Low\",\n      \"properties\": {\n        \"dtype\": \"number\",\n        \"std\": 140.54832607685935,\n        \"min\": 11.0,\n        \"max\": 699.57,\n        \"num_unique_values\": 3652,\n        \"samples\": [\n          25.74,\n          66.74,\n          59.12\n        ],\n        \"semantic_type\": \"\",\n        \"description\": \"\"\n      }\n    },\n    {\n      \"column\": \"Close\",\n      \"properties\": {\n        \"dtype\": \"number\",\n        \"std\": 141.87724398239104,\n        \"min\": 11.0,\n        \"max\": 702.1,\n        \"num_unique_values\": 3834,\n        \"samples\": [\n          266.7,\n          127.24,\n          105.25\n        ],\n        \"semantic_type\": \"\",\n        \"description\": \"\"\n      }\n    },\n    {\n      \"column\": \"Volume\",\n      \"properties\": {\n        \"dtype\": \"number\",\n        \"std\": 89932015,\n        \"min\": 250400,\n        \"max\": 1855410200,\n        \"num_unique_values\": 7915,\n        \"samples\": [\n          58367400,\n          137317600,\n          18407200\n        ],\n        \"semantic_type\": \"\",\n        \"description\": \"\"\n      }\n    },\n    {\n      \"column\": \"Adj Close\",\n      \"properties\": {\n        \"dtype\": \"number\",\n        \"std\": 21.133015546861817,\n        \"min\": 0.17,\n        \"max\": 96.28,\n        \"num_unique_values\": 2325,\n        \"samples\": [\n          7.12,\n          9.84,\n          51.48\n        ],\n        \"semantic_type\": \"\",\n        \"description\": \"\"\n      }\n    }\n  ]\n}"
            }
          },
          "metadata": {},
          "execution_count": 43
        }
      ]
    },
    {
      "cell_type": "markdown",
      "metadata": {
        "id": "eRY2W2hfVXJv"
      },
      "source": [
        "### Step 9. Get the last business day of each month"
      ]
    },
    {
      "cell_type": "code",
      "metadata": {
        "id": "APU643vIVXJx",
        "colab": {
          "base_uri": "https://localhost:8080/"
        },
        "outputId": "feefaaa5-c0ee-4a7f-9d41-b3bb76161f7d"
      },
      "source": [
        "# 각 월의 마지막 영업일 찾기\n",
        "last_business_days = apple.resample('BM').last()\n",
        "\n",
        "# 결과 출력\n",
        "print(last_business_days.head())"
      ],
      "execution_count": 44,
      "outputs": [
        {
          "output_type": "stream",
          "name": "stdout",
          "text": [
            "             Open   High    Low  Close    Volume  Adj Close\n",
            "Date                                                       \n",
            "1980-12-31  34.25  34.25  34.13  34.13   8937600       0.53\n",
            "1981-01-30  28.50  28.50  28.25  28.25  11547200       0.44\n",
            "1981-02-27  26.50  26.75  26.50  26.50   3690400       0.41\n",
            "1981-03-31  24.75  24.75  24.50  24.50   3998400       0.38\n",
            "1981-04-30  28.38  28.62  28.38  28.38   3152800       0.44\n"
          ]
        },
        {
          "output_type": "stream",
          "name": "stderr",
          "text": [
            "<ipython-input-44-8aa7d205bb88>:2: FutureWarning: 'BM' is deprecated and will be removed in a future version, please use 'BME' instead.\n",
            "  last_business_days = apple.resample('BM').last()\n"
          ]
        }
      ]
    },
    {
      "cell_type": "markdown",
      "metadata": {
        "id": "a9O6hmadVXJy"
      },
      "source": [
        "### Step 10.  What is the difference in days between the first day and the oldest"
      ]
    },
    {
      "cell_type": "code",
      "metadata": {
        "id": "HMGS16w9VXJy",
        "colab": {
          "base_uri": "https://localhost:8080/"
        },
        "outputId": "257f1a16-18d4-4520-e145-2fb479e54559"
      },
      "source": [
        "days_diff = (apple.index.max() - apple.index.min()).days\n",
        "print(days_diff)"
      ],
      "execution_count": 46,
      "outputs": [
        {
          "output_type": "stream",
          "name": "stdout",
          "text": [
            "12261\n"
          ]
        }
      ]
    },
    {
      "cell_type": "markdown",
      "metadata": {
        "id": "Ey0zVGV5VXJz"
      },
      "source": [
        "### Step 11.  How many months in the data we have?"
      ]
    },
    {
      "cell_type": "code",
      "metadata": {
        "id": "Pxkdp6j-VXJz",
        "colab": {
          "base_uri": "https://localhost:8080/"
        },
        "outputId": "58c1f986-6603-4cd9-f7a9-947e8c6f9b12"
      },
      "source": [
        "n_month = apple.resample('ME').size().shape[0]\n",
        "print(n_month)"
      ],
      "execution_count": 48,
      "outputs": [
        {
          "output_type": "stream",
          "name": "stdout",
          "text": [
            "404\n"
          ]
        }
      ]
    },
    {
      "cell_type": "markdown",
      "metadata": {
        "id": "zXIBNkMFVXJ0"
      },
      "source": [
        "### Step 12. Plot the 'Adj Close' value. Set the size of the figure to 13.5 x 9 inches"
      ]
    },
    {
      "cell_type": "code",
      "metadata": {
        "id": "bvsp15_IVXJ1",
        "colab": {
          "base_uri": "https://localhost:8080/",
          "height": 730
        },
        "outputId": "0679486c-38b1-4b56-f3cf-f49951a1b642"
      },
      "source": [
        "import matplotlib.pyplot as plt\n",
        "\n",
        "plt.figure(figsize = (13.5, 9))\n",
        "apple['Adj Close'].plot()\n",
        "plt.title('Apple Adjusted Close Price')\n",
        "plt.xlabel('Date')\n",
        "plt.ylabel('Adj Close')\n",
        "plt.show()\n"
      ],
      "execution_count": 49,
      "outputs": [
        {
          "output_type": "display_data",
          "data": {
            "text/plain": [
              "<Figure size 1350x900 with 1 Axes>"
            ],
            "image/png": "[encoded data removed]"
          },
          "metadata": {}
        }
      ]
    }
  ]
}